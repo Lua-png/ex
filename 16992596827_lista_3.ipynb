{
 "cells": [
  {
   "cell_type": "markdown",
   "metadata": {},
   "source": [
    "## QUESTÃO 0"
   ]
  },
  {
   "cell_type": "markdown",
   "metadata": {},
   "source": [
    "Final do ano chegando e você já quer garantir sua viagem para a Europa, Crie uma função que converta valores euro para real. Considere que 1 euro equivale a 5.33 reais.\n",
    "\n",
    "Sabendo que hotel + comida + transporte + lazer darão entorno de 4500 euros, quantos reais você deverá guardar na sua poupança para garantir as férias."
   ]
  },
  {
   "cell_type": "code",
   "execution_count": 4,
   "metadata": {},
   "outputs": [
    {
     "name": "stdout",
     "output_type": "stream",
     "text": [
      "você deverá guardar 23985.0 reais\n"
     ]
    }
   ],
   "source": [
    "def convert(euro):\n",
    "    real = euro*5.33\n",
    "    return real\n",
    "\n",
    "print(\"você deverá guardar\",convert(4500), \"reais\")"
   ]
  },
  {
   "cell_type": "markdown",
   "metadata": {},
   "source": [
    "## QUESTÃO 1\n"
   ]
  },
  {
   "cell_type": "markdown",
   "metadata": {},
   "source": [
    "Uma função em Python é uma sequência de códigos que possui nome próprio, executa tarefas específicas e evita repetição de código, podendo ser chamada pelo seu nome. Há funções já determinadas como print() e input(), entretanto, nesta lista de exercícios criaremos nossas próprias funções! \n"
   ]
  },
  {
   "cell_type": "markdown",
   "metadata": {},
   "source": [
    "Você adicionou o curso de Python da FEA.Dev em seu currículo e foi contratado como estagiário da empresa HelloWorld. Parabéns! Sua tarefa na empresa é automatizar o máximo de processos possíveis e, para isso, precisará criar muitas funções facilitadoras.\n",
    "\n",
    "Começaremos com dois exemplos básicos apenas como demonstração."
   ]
  },
  {
   "cell_type": "code",
   "execution_count": 12,
   "metadata": {},
   "outputs": [
    {
     "name": "stdout",
     "output_type": "stream",
     "text": [
      "hello, world!\n",
      "12\n"
     ]
    }
   ],
   "source": [
    "def slogan():\n",
    "    print('hello, world!')\n",
    "\n",
    "#função com parâmetros e retornando um valor\n",
    "def soma(a, b):\n",
    "    print (a + b)\n",
    "\n",
    "\n",
    "\n",
    "slogan()\n",
    "soma(5, 7) #5 e 7 são argumentos da função soma"
   ]
  },
  {
   "cell_type": "markdown",
   "metadata": {},
   "source": [
    "**a)Parâmetros Opcionais:**\n",
    "\n",
    "Observando o departamento de contabilidade da HelloWorld, você percebeu que os funcionários passam o dia multiplicando valores e, como um bom programador, resolveu tornar esse processo mais eficiente. Desenvolva a função mult, que retorna a multiplicação dos parâmetros \"a\", \"b\", \"c\" e \"d\". Porém, a função não precisa necessariamente receber os 4 argumentos. Caso um parâmetro não receba um argumento, ele deve valer 1."
   ]
  },
  {
   "cell_type": "code",
   "execution_count": 11,
   "metadata": {},
   "outputs": [
    {
     "data": {
      "text/plain": [
       "1100"
      ]
     },
     "execution_count": 11,
     "metadata": {},
     "output_type": "execute_result"
    }
   ],
   "source": [
    "def mult(a = 1, b = 1, c = 1, d = 1):\n",
    "    return a*b*c*d\n",
    "\n",
    "mult(10,10,11)\n"
   ]
  },
  {
   "cell_type": "markdown",
   "metadata": {},
   "source": [
    "**b)Return X Print:**\n",
    "\n",
    "Antes de tudo, rode todas as células do jupyter. \n",
    "\n",
    "O CEO da HelloWorld está desesperado, pois não consegue solucionar um erro de código que está impedindo a empresa de continuar funcionando. Assim, ele te ligou para ajudá-lo a corrigir tal erro.\n",
    "Rode o código abaixo para identificar o erro.\n",
    "(não altere o código, o erro foi planejado)"
   ]
  },
  {
   "cell_type": "code",
   "execution_count": 13,
   "metadata": {},
   "outputs": [
    {
     "name": "stdout",
     "output_type": "stream",
     "text": [
      "10\n"
     ]
    },
    {
     "ename": "TypeError",
     "evalue": "unsupported operand type(s) for *: 'NoneType' and 'int'",
     "output_type": "error",
     "traceback": [
      "\u001b[1;31m---------------------------------------------------------------------------\u001b[0m",
      "\u001b[1;31mTypeError\u001b[0m                                 Traceback (most recent call last)",
      "Cell \u001b[1;32mIn[13], line 1\u001b[0m\n\u001b[1;32m----> 1\u001b[0m mult(soma(\u001b[38;5;241m5\u001b[39m, \u001b[38;5;241m5\u001b[39m), \u001b[38;5;241m10\u001b[39m)\n",
      "Cell \u001b[1;32mIn[11], line 2\u001b[0m, in \u001b[0;36mmult\u001b[1;34m(a, b, c, d)\u001b[0m\n\u001b[0;32m      1\u001b[0m \u001b[38;5;28;01mdef\u001b[39;00m \u001b[38;5;21mmult\u001b[39m(a \u001b[38;5;241m=\u001b[39m \u001b[38;5;241m1\u001b[39m, b \u001b[38;5;241m=\u001b[39m \u001b[38;5;241m1\u001b[39m, c \u001b[38;5;241m=\u001b[39m \u001b[38;5;241m1\u001b[39m, d \u001b[38;5;241m=\u001b[39m \u001b[38;5;241m1\u001b[39m):\n\u001b[1;32m----> 2\u001b[0m     \u001b[38;5;28;01mreturn\u001b[39;00m a\u001b[38;5;241m*\u001b[39mb\u001b[38;5;241m*\u001b[39mc\u001b[38;5;241m*\u001b[39md\n",
      "\u001b[1;31mTypeError\u001b[0m: unsupported operand type(s) for *: 'NoneType' and 'int'"
     ]
    }
   ],
   "source": [
    "mult(soma(5, 5), 10)"
   ]
  },
  {
   "cell_type": "markdown",
   "metadata": {},
   "source": [
    "Reescreva a função soma para que o erro não ocorra. Lembre-se da diferença entre retornar um valor e imprimir um valor."
   ]
  },
  {
   "cell_type": "code",
   "execution_count": 14,
   "metadata": {},
   "outputs": [
    {
     "data": {
      "text/plain": [
       "100"
      ]
     },
     "execution_count": 14,
     "metadata": {},
     "output_type": "execute_result"
    }
   ],
   "source": [
    "def soma(a, b):\n",
    "    return (a + b)\n",
    "\n",
    "mult(soma(5, 5), 10)"
   ]
  },
  {
   "cell_type": "markdown",
   "metadata": {},
   "source": [
    "## QUESTÃO 2\n",
    "\n"
   ]
  },
  {
   "cell_type": "markdown",
   "metadata": {},
   "source": [
    "Você está desenvolvendo um jogo de adivinhação muito simples, no qual o jogador tenta adivinhar um número secreto entre 1 e 100.\n",
    "\n",
    "**Instrução:**\n",
    "\n",
    "O programa gerará aleatoriamente um número entre 1 e 100 que o jogador deve adivinhar.\n",
    "\n",
    "O jogador poderá inserir um palpite (um número inteiro) e pressionar \"Enter\".\n",
    "\n",
    "O programa fornecerá feedback sobre o palpite do jogador, dizendo se o palpite é muito alto, muito baixo ou correto em relação ao número secreto.\n",
    "\n",
    "O jogador continuará a adivinhar até acertar o número secreto.\n",
    "\n",
    "O programa informará quantas tentativas foram necessárias para acertar o número."
   ]
  },
  {
   "cell_type": "markdown",
   "metadata": {},
   "source": [
    "**Exemplo**\n",
    "\n",
    "Bem-vindo ao Jogo de Adivinhação! Tente adivinhar o número secreto entre 1 e 100.\n",
    "\n",
    "Digite o seu palpite: 50 O número é maior. Tente novamente.\n",
    "\n",
    "Digite o seu palpite: 25 O número é maior. Tente novamente.\n",
    "\n",
    "Digite o seu palpite: 37 O número é menor. Tente novamente.\n",
    "\n",
    "Digite o seu palpite: 42 Parabéns! Você acertou o número secreto 42 em 4 tentativas.\n"
   ]
  },
  {
   "cell_type": "code",
   "execution_count": 21,
   "metadata": {},
   "outputs": [
    {
     "name": "stdout",
     "output_type": "stream",
     "text": [
      "Bem-vindo ao Jogo de Adivinhação! Tente adivinhar o número secreto entre 1 e 100: 4\n",
      "O número é maior. Tente novamente\n",
      "Bem-vindo ao Jogo de Adivinhação! Tente adivinhar o número secreto entre 1 e 100: 10\n",
      "O número é maior. Tente novamente\n",
      "Bem-vindo ao Jogo de Adivinhação! Tente adivinhar o número secreto entre 1 e 100: 25\n",
      "O número é maior. Tente novamente\n",
      "Bem-vindo ao Jogo de Adivinhação! Tente adivinhar o número secreto entre 1 e 100: 40\n",
      "O número é menor. Tente novamente\n",
      "Bem-vindo ao Jogo de Adivinhação! Tente adivinhar o número secreto entre 1 e 100: 30\n",
      "O número é menor. Tente novamente\n",
      "Bem-vindo ao Jogo de Adivinhação! Tente adivinhar o número secreto entre 1 e 100: 25\n",
      "O número é maior. Tente novamente\n",
      "Bem-vindo ao Jogo de Adivinhação! Tente adivinhar o número secreto entre 1 e 100: 26\n",
      "Parabéns! Você acertou o número secreto 26 em 7 tentativas\n"
     ]
    }
   ],
   "source": [
    "import random\n",
    "number = random.randint(1, 100)\n",
    "n = 0\n",
    "\n",
    "while True:\n",
    "    x = int(input(\"Bem-vindo ao Jogo de Adivinhação! Tente adivinhar o número secreto entre 1 e 100: \"))\n",
    "    n += 1\n",
    "    if x == number:\n",
    "        print(f\"Parabéns! Você acertou o número secreto {number} em {n} tentativas\")\n",
    "        break \n",
    "    elif x < number:\n",
    "        print(\"O número é maior. Tente novamente\")\n",
    "        continue\n",
    "    else:\n",
    "        print(\"O número é menor. Tente novamente\")\n",
    "        continue"
   ]
  },
  {
   "cell_type": "markdown",
   "metadata": {},
   "source": [
    "## QUESTÃO 3"
   ]
  },
  {
   "cell_type": "markdown",
   "metadata": {},
   "source": [
    "**Jogo da Forca**\n",
    "\n",
    "Você está criando um jogo da forca em Python, um jogo popular de adivinhação de palavras. Neste jogo, um jogador tenta adivinhar uma palavra, letra por letra, antes que o enforcado seja completamente desenhado.\n",
    "\n",
    "**Instrução:**\n",
    "\n",
    "Crie uma função chamada verificar_letra que aceite dois argumentos: uma palavra secreta e uma letra. A função deve verificar se a letra está presente na palavra secreta. Se a letra estiver na palavra secreta, a função deve retornar True, caso contrário, deve retornar False.\n",
    "\n",
    "Apenas 1 letra."
   ]
  },
  {
   "cell_type": "code",
   "execution_count": 26,
   "metadata": {},
   "outputs": [
    {
     "data": {
      "text/plain": [
       "True"
      ]
     },
     "execution_count": 26,
     "metadata": {},
     "output_type": "execute_result"
    }
   ],
   "source": [
    "def verificar_letra(palavra, letra):\n",
    "    if letra in palavra:\n",
    "        return True\n",
    "    else:\n",
    "        return False\n",
    "\n",
    "verificar_letra(\"carrosel\", \"s\")\n",
    "#argumentos devem ser strings"
   ]
  },
  {
   "cell_type": "markdown",
   "metadata": {},
   "source": [
    "# QUESTÃO 4"
   ]
  },
  {
   "cell_type": "markdown",
   "metadata": {},
   "source": [
    "Você está desenvolvendo uma função que embaralha as letras de uma palavra para criar palavras embaralhadas.\n",
    "\n",
    "**Instrução:**\n",
    "\n",
    "Crie uma função chamada embaralhar_palavra que aceite uma palavra como argumento e retorne a mesma palavra com suas letras embaralhadas. Independentemente da entrada ser em maiúsculas ou minúsculas, a saída deve estar sempre em letras minúsculas.\n",
    "\n",
    "A palavra deve ser: embaralhados"
   ]
  },
  {
   "cell_type": "code",
   "execution_count": 19,
   "metadata": {},
   "outputs": [
    {
     "data": {
      "text/plain": [
       "'sguoam'"
      ]
     },
     "execution_count": 19,
     "metadata": {},
     "output_type": "execute_result"
    }
   ],
   "source": [
    "import random\n",
    "def embaralhar_palavra(palavra): \n",
    "    palavra = ''.join(random.sample(palavra,len(palavra))).lower()\n",
    "    return palavra\n",
    "\n",
    "embaralhar_palavra(\"AMOGUS\")"
   ]
  },
  {
   "cell_type": "markdown",
   "metadata": {},
   "source": [
    "## QUESTÃO 5"
   ]
  },
  {
   "cell_type": "markdown",
   "metadata": {},
   "source": [
    "Você está desenvolvendo uma função chamada eh_numero_par que verifica se um número é par ou ímpar. Esta função ajudará a determinar se um número dado é divisível por 2.\n",
    "\n",
    "**Instruções:**\n",
    "\n",
    "Crie uma função chamada eh_numero_par que aceite um número como argumento.\n",
    "\n",
    "Dentro da função, verifique se o número é divisível por 2. Se for divisível por 2, retorne True. Caso contrário, retorne False."
   ]
  },
  {
   "cell_type": "code",
   "execution_count": 27,
   "metadata": {},
   "outputs": [
    {
     "name": "stdout",
     "output_type": "stream",
     "text": [
      "101\n",
      "não é par\n"
     ]
    }
   ],
   "source": [
    "\n",
    "def par(numero):\n",
    "    if numero%2 == 0:\n",
    "        return True\n",
    "    else:\n",
    "        return False\n",
    "\n",
    "n = int(input())\n",
    "if par(n):\n",
    "    print(\"é par\")\n",
    "else:\n",
    "    print(\"não é par\")"
   ]
  },
  {
   "cell_type": "markdown",
   "metadata": {},
   "source": [
    "## QUESTÃO 6"
   ]
  },
  {
   "cell_type": "markdown",
   "metadata": {},
   "source": [
    "Você está desenvolvendo um sistema para uma sorveteria que permite aos clientes escolherem seus sabores de sorvete favoritos e montar seus próprios sorvetes. Crie uma função que ajude os clientes a escolher os sabores de sorvete.\n",
    "\n",
    "Crie uma função chamada escolher_sabores que aceite uma lista de sabores de sorvete como argumento. A função deve escolher aleatoriamente um sabor de sorvete da lista e retorná-lo."
   ]
  },
  {
   "cell_type": "code",
   "execution_count": 38,
   "metadata": {},
   "outputs": [
    {
     "data": {
      "text/plain": [
       "'Milho'"
      ]
     },
     "execution_count": 38,
     "metadata": {},
     "output_type": "execute_result"
    }
   ],
   "source": [
    "sabores_disponiveis = [\"Baunilha\", \"Chocolate\", \"Morango\", \"Creme\", \"Café\", \"Chocolate com menta\", \"Milho\"]\n",
    "\n",
    "def escolher_sabores(lista):\n",
    "    escolha = random.choice(lista)\n",
    "    return escolha\n",
    "\n",
    "escolher_sabores(sabores_disponiveis)"
   ]
  },
  {
   "cell_type": "markdown",
   "metadata": {},
   "source": [
    "# Questão 7"
   ]
  },
  {
   "cell_type": "markdown",
   "metadata": {},
   "source": [
    "Você está desenvolvendo uma aplicação de gerenciamento de eventos para auxiliar pessoas a planejarem seus compromissos mensais. Para isso, é essencial criar uma função que gera um calendário mensal para que os usuários possam visualizar os dias da semana e planejar seus eventos.\n",
    "\n",
    "Crie uma função chamada gerar_calendario_mensal que aceita dois argumentos: o ano e o mês para o qual você deseja gerar um calendário. A função deve retornar uma representação do calendário do mês especificado, exibindo os dias da semana e os números dos dias do mês."
   ]
  },
  {
   "cell_type": "code",
   "execution_count": 44,
   "metadata": {},
   "outputs": [
    {
     "name": "stdout",
     "output_type": "stream",
     "text": [
      "    October 2023\n",
      "Mo Tu We Th Fr Sa Su\n",
      "                   1\n",
      " 2  3  4  5  6  7  8\n",
      " 9 10 11 12 13 14 15\n",
      "16 17 18 19 20 21 22\n",
      "23 24 25 26 27 28 29\n",
      "30 31\n",
      "\n"
     ]
    }
   ],
   "source": [
    "import calendar\n",
    "\n",
    "def calendario(ano, mes):\n",
    "    cal = calendar.month(ano, mes)\n",
    "    return cal\n",
    "\n",
    "print(calendario(2023, 10))"
   ]
  },
  {
   "cell_type": "markdown",
   "metadata": {},
   "source": [
    "# Questão 8"
   ]
  },
  {
   "cell_type": "markdown",
   "metadata": {},
   "source": [
    "É outubrooooo!!!!! \n",
    "Você está se preparando para o Halloween e deseja criar um programa para contar a quantidade de doces que você coletou durante o \"doces ou travessuras\". Crie uma função que simule a contagem de doces."
   ]
  },
  {
   "cell_type": "markdown",
   "metadata": {},
   "source": [
    "Crie uma função chamada contar_doces que aceite uma lista de tipos de doces como argumento. A função deve contar quantas vezes cada tipo de doce aparece na lista e retornar um dicionário onde as chaves são os tipos de doces e os valores são as quantidades correspondentes."
   ]
  },
  {
   "cell_type": "code",
   "execution_count": 69,
   "metadata": {},
   "outputs": [
    {
     "name": "stdout",
     "output_type": "stream",
     "text": [
      "{'chocolate': 2, 'pirulito': 3, 'caramelo': 1}\n"
     ]
    }
   ],
   "source": [
    "from collections import Counter\n",
    "doces_coletados = [\"chocolate\", \"chocolate\", \"pirulito\", \"caramelo\", \"pirulito\", \"pirulito\"]\n",
    "\n",
    "def contar(lista):\n",
    "    counter_obj = Counter(lista)\n",
    "    dic = dict(counter_obj)\n",
    "    return dic\n",
    "\n",
    "dic = contar(doces_coletados)\n",
    "print(dic)"
   ]
  },
  {
   "cell_type": "markdown",
   "metadata": {},
   "source": [
    "# DESAFIO"
   ]
  },
  {
   "cell_type": "markdown",
   "metadata": {},
   "source": [
    "Quem não gosta de jogar um bingo na igreja e ganhar uns potes de plásticos maneiros???\n",
    "Vamos jogar no Python? Crie um jogo de bingo onde a pessoa deve pressionar \"Enter\" para sortear cada número. Os números sorteados estão limitados a um intervalo de 1 a 20.\n",
    "\n",
    "Instruções:\n",
    "\n",
    "Crie uma função chamada sortear_bingo que não aceita argumentos.\n",
    "\n",
    "Inicialize uma lista vazia chamada numeros_sorteados para acompanhar os números sorteados.\n",
    "\n",
    "Inicialize uma cartela de bingo com números de 1 a 20. A cartela pode ser uma lista de 3 listas com 3 números cada. Cada número deve ser único na cartela.\n",
    "\n",
    "Utilize um loop para simular o sorteio de números de 1 a 20. Certifique-se de que os números sorteados sejam únicos.\n",
    "\n",
    "Exiba cada número sorteado na tela e a cartela do jogador.\n",
    "\n",
    "Peça à pessoa que pressione \"Enter\" para sortear o próximo número a cada rodada.\n",
    "\n",
    "Marque o número sorteado na cartela do jogador.\n",
    "\n",
    "Continue o sorteio até que todos os números de 1 a 20 tenham sido sorteados. Quando isso acontecer, exiba \"Bingo!\"."
   ]
  },
  {
   "cell_type": "markdown",
   "metadata": {},
   "source": [
    "sua cartela será:"
   ]
  },
  {
   "cell_type": "code",
   "execution_count": 137,
   "metadata": {},
   "outputs": [
    {
     "name": "stdout",
     "output_type": "stream",
     "text": [
      "Aperte enter pra gerar o proximo numero ou digite qualquer coisa pra parar \n",
      "O numero sorteado foi 7\n",
      "Aperte enter pra gerar o proximo numero ou digite qualquer coisa pra parar \n",
      "O numero sorteado foi 19\n",
      "Aperte enter pra gerar o proximo numero ou digite qualquer coisa pra parar \n",
      "O numero sorteado foi 15\n",
      "Aperte enter pra gerar o proximo numero ou digite qualquer coisa pra parar \n",
      "O numero sorteado foi 16\n",
      "Aperte enter pra gerar o proximo numero ou digite qualquer coisa pra parar \n",
      "O numero sorteado foi 3\n",
      "Aperte enter pra gerar o proximo numero ou digite qualquer coisa pra parar \n",
      "O numero sorteado foi 9\n",
      "Aperte enter pra gerar o proximo numero ou digite qualquer coisa pra parar \n",
      "O numero sorteado foi 5\n",
      "Aperte enter pra gerar o proximo numero ou digite qualquer coisa pra parar \n",
      "O numero sorteado foi 6\n",
      "Aperte enter pra gerar o proximo numero ou digite qualquer coisa pra parar \n",
      "O numero sorteado foi 12\n",
      "Aperte enter pra gerar o proximo numero ou digite qualquer coisa pra parar \n",
      "O numero sorteado foi 11\n",
      "Aperte enter pra gerar o proximo numero ou digite qualquer coisa pra parar \n",
      "O numero sorteado foi 17\n",
      "Aperte enter pra gerar o proximo numero ou digite qualquer coisa pra parar \n",
      "O numero sorteado foi 4\n",
      "Aperte enter pra gerar o proximo numero ou digite qualquer coisa pra parar \n",
      "O numero sorteado foi 20\n",
      "Aperte enter pra gerar o proximo numero ou digite qualquer coisa pra parar \n",
      "O numero sorteado foi 2\n",
      "Aperte enter pra gerar o proximo numero ou digite qualquer coisa pra parar \n",
      "O numero sorteado foi 14\n",
      "Aperte enter pra gerar o proximo numero ou digite qualquer coisa pra parar \n",
      "O numero sorteado foi 1\n",
      "Aperte enter pra gerar o proximo numero ou digite qualquer coisa pra parar \n",
      "O numero sorteado foi 10\n",
      "Aperte enter pra gerar o proximo numero ou digite qualquer coisa pra parar \n",
      "O numero sorteado foi 13\n",
      "Aperte enter pra gerar o proximo numero ou digite qualquer coisa pra parar \n",
      "O numero sorteado foi 18\n",
      "Aperte enter pra gerar o proximo numero ou digite qualquer coisa pra parar \n",
      "O numero sorteado foi 8\n",
      "BINGOOOOO\n"
     ]
    }
   ],
   "source": [
    "import random\n",
    "\n",
    "def sorteia(cartela):\n",
    "    l = [x for x in range(1, 21)]\n",
    "    continuar = \"\"\n",
    "    while True:\n",
    "        if cartela == [[], [], []]:\n",
    "            break\n",
    "        continuar = input(\"Aperte enter pra gerar o proximo numero ou digite qualquer coisa pra parar \")\n",
    "        if continuar == \"\":\n",
    "            number = random.choice(l)\n",
    "            l.remove(number)\n",
    "            print(f\"O numero sorteado foi {number}\")\n",
    "            for i in range (3):\n",
    "                if number in cartela[i]:\n",
    "                    cartela[i].remove(number)\n",
    "                    if cartela == [[], [], []]:\n",
    "                        print(\"BINGOOOOO\")\n",
    "                        break\n",
    "        else:\n",
    "            break\n",
    "    \n",
    "cartela_j = [[1,8,10],[5,3,7],[2,6,9]]\n",
    "\n",
    "sorteia(cartela_j)"
   ]
  }
 ],
 "metadata": {
  "kernelspec": {
   "display_name": "Python 3 (ipykernel)",
   "language": "python",
   "name": "python3"
  },
  "language_info": {
   "codemirror_mode": {
    "name": "ipython",
    "version": 3
   },
   "file_extension": ".py",
   "mimetype": "text/x-python",
   "name": "python",
   "nbconvert_exporter": "python",
   "pygments_lexer": "ipython3",
   "version": "3.11.4"
  }
 },
 "nbformat": 4,
 "nbformat_minor": 2
}
